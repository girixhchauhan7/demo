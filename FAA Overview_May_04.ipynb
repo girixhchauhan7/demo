{
 "cells": [
  {
   "cell_type": "markdown",
   "id": "907ff111",
   "metadata": {},
   "source": [
    "## Import Libraries"
   ]
  },
  {
   "cell_type": "code",
   "execution_count": 1,
   "id": "8f5674a3",
   "metadata": {},
   "outputs": [],
   "source": [
    "import pandas as pd\n",
    "import os\n",
    "import matplotlib.pyplot as plt\n",
    "import numpy as np"
   ]
  },
  {
   "cell_type": "code",
   "execution_count": 2,
   "id": "b4308eba",
   "metadata": {},
   "outputs": [],
   "source": [
    "pwd= os.getcwd()"
   ]
  },
  {
   "cell_type": "code",
   "execution_count": 3,
   "id": "82303600",
   "metadata": {},
   "outputs": [],
   "source": [
    "df1 = pd.read_csv(pwd + \"/_202305041824.csv\")\n",
    "df_countrytiers = pd.read_excel(pwd + \"/Tier1_List.xlsx\")\n",
    "df_managerslist = pd.read_excel(pwd + \"/ManagersList.xlsx\")\n",
    "df_campmanagerslist = pd.read_excel(pwd + \"/CampManagersList.xlsx\")"
   ]
  },
  {
   "cell_type": "code",
   "execution_count": 4,
   "id": "aa8762dd",
   "metadata": {},
   "outputs": [],
   "source": [
    "index = df1[ (df1['COST'] == 0) & (df1['REVENUE'] ==0) ].index\n",
    "df1.drop(index , inplace=True)"
   ]
  },
  {
   "cell_type": "code",
   "execution_count": 5,
   "id": "6a7d90f8",
   "metadata": {
    "scrolled": true
   },
   "outputs": [],
   "source": [
    "import re\n",
    "words = ['suite', 'workspace','ads','advertis','video']\n",
    "regex = '|'.join(map(re.escape, words))\n",
    "# 'health|therapist|sales|private'\n",
    "# keywords- lms, 3pl, edi,headless, knowledge/content, endpoint, server,project, health\n",
    "# new keywords - soc 2, it , headless , discovery, billing, staffing, inventory\n",
    "# dormant - laboratory, Supply Chain, corporate, therapist, event management, identity, power bi, medical staffing, ,forensic, ehr, enterprise\n",
    "#lawyer,marketing,order, file, therap, analytics, document, cyber, workflow, ai, consulting\n",
    "\n",
    "#removed 23aug - email,private\n",
    "#removed 21Sept- mental,document\n",
    "#added -ads, workable\n",
    "#'product','task', 'ats' , gcp\n",
    "\n",
    "# option 1: get first match\n",
    "df1['category_first'] = (df1['Campaign_Query']\n",
    " .str.extract(f'(?i)({regex})', expand=False)\n",
    " .fillna('Other')\n",
    " )\n",
    "\n",
    "# option 2: get all matches\n",
    "df1['category_all'] = (df1['Campaign_Query']\n",
    " .str.extractall(f'(?i)({regex})')\n",
    " [0].groupby(level=0).agg(lambda x: ','.join(set(x)))\n",
    " .reindex(df1.index, fill_value='Other')\n",
    " )"
   ]
  },
  {
   "cell_type": "markdown",
   "id": "fb76685c",
   "metadata": {},
   "source": [
    "### Merge two strings into ONE - suite and workspace"
   ]
  },
  {
   "cell_type": "code",
   "execution_count": 6,
   "id": "550eff41",
   "metadata": {},
   "outputs": [],
   "source": [
    "#df1['category_first'] = df1['category_first'].replace(['suite', 'workspace','Workspace','ads','advertis','video'], 'G Suite')"
   ]
  },
  {
   "cell_type": "code",
   "execution_count": 7,
   "id": "acf9e921",
   "metadata": {},
   "outputs": [
    {
     "data": {
      "text/html": [
       "<div>\n",
       "<style scoped>\n",
       "    .dataframe tbody tr th:only-of-type {\n",
       "        vertical-align: middle;\n",
       "    }\n",
       "\n",
       "    .dataframe tbody tr th {\n",
       "        vertical-align: top;\n",
       "    }\n",
       "\n",
       "    .dataframe thead th {\n",
       "        text-align: right;\n",
       "    }\n",
       "</style>\n",
       "<table border=\"1\" class=\"dataframe\">\n",
       "  <thead>\n",
       "    <tr style=\"text-align: right;\">\n",
       "      <th></th>\n",
       "      <th>COST</th>\n",
       "      <th>REVENUE</th>\n",
       "    </tr>\n",
       "    <tr>\n",
       "      <th>category_first</th>\n",
       "      <th></th>\n",
       "      <th></th>\n",
       "    </tr>\n",
       "  </thead>\n",
       "  <tbody>\n",
       "    <tr>\n",
       "      <th>G Suite</th>\n",
       "      <td>33811.43</td>\n",
       "      <td>44092.43</td>\n",
       "    </tr>\n",
       "    <tr>\n",
       "      <th>Other</th>\n",
       "      <td>15857.19</td>\n",
       "      <td>18996.10</td>\n",
       "    </tr>\n",
       "    <tr>\n",
       "      <th>Suite</th>\n",
       "      <td>86.56</td>\n",
       "      <td>110.80</td>\n",
       "    </tr>\n",
       "    <tr>\n",
       "      <th>All</th>\n",
       "      <td>49755.18</td>\n",
       "      <td>63199.33</td>\n",
       "    </tr>\n",
       "  </tbody>\n",
       "</table>\n",
       "</div>"
      ],
      "text/plain": [
       "                    COST   REVENUE\n",
       "category_first                    \n",
       "G Suite         33811.43  44092.43\n",
       "Other           15857.19  18996.10\n",
       "Suite              86.56    110.80\n",
       "All             49755.18  63199.33"
      ]
     },
     "execution_count": 7,
     "metadata": {},
     "output_type": "execute_result"
    }
   ],
   "source": [
    "#df1.pivot_table(['COST','REVENUE'], index='category_first', aggfunc='sum', margins=True)"
   ]
  },
  {
   "cell_type": "markdown",
   "id": "40cd5ef4",
   "metadata": {},
   "source": [
    "#### Merge CountryList"
   ]
  },
  {
   "cell_type": "code",
   "execution_count": 4,
   "id": "bf380524",
   "metadata": {},
   "outputs": [],
   "source": [
    "df_merge_1 = pd.merge(df1, df_countrytiers, on='Country', how='left')"
   ]
  },
  {
   "cell_type": "code",
   "execution_count": 5,
   "id": "0fed32ed",
   "metadata": {},
   "outputs": [],
   "source": [
    "df_merge_1['Tier'] =  df_merge_1['Tier'].fillna('NO')"
   ]
  },
  {
   "cell_type": "code",
   "execution_count": 6,
   "id": "a2530d49",
   "metadata": {
    "scrolled": true
   },
   "outputs": [
    {
     "data": {
      "text/html": [
       "<div>\n",
       "<style scoped>\n",
       "    .dataframe tbody tr th:only-of-type {\n",
       "        vertical-align: middle;\n",
       "    }\n",
       "\n",
       "    .dataframe tbody tr th {\n",
       "        vertical-align: top;\n",
       "    }\n",
       "\n",
       "    .dataframe thead th {\n",
       "        text-align: right;\n",
       "    }\n",
       "</style>\n",
       "<table border=\"1\" class=\"dataframe\">\n",
       "  <thead>\n",
       "    <tr style=\"text-align: right;\">\n",
       "      <th></th>\n",
       "      <th>COST</th>\n",
       "      <th>REVENUE</th>\n",
       "    </tr>\n",
       "    <tr>\n",
       "      <th>Tier</th>\n",
       "      <th></th>\n",
       "      <th></th>\n",
       "    </tr>\n",
       "  </thead>\n",
       "  <tbody>\n",
       "    <tr>\n",
       "      <th>NO</th>\n",
       "      <td>336.76</td>\n",
       "      <td>411.79</td>\n",
       "    </tr>\n",
       "    <tr>\n",
       "      <th>Tier 1</th>\n",
       "      <td>206.52</td>\n",
       "      <td>226.41</td>\n",
       "    </tr>\n",
       "    <tr>\n",
       "      <th>All</th>\n",
       "      <td>543.28</td>\n",
       "      <td>638.20</td>\n",
       "    </tr>\n",
       "  </tbody>\n",
       "</table>\n",
       "</div>"
      ],
      "text/plain": [
       "          COST  REVENUE\n",
       "Tier                   \n",
       "NO      336.76   411.79\n",
       "Tier 1  206.52   226.41\n",
       "All     543.28   638.20"
      ]
     },
     "execution_count": 6,
     "metadata": {},
     "output_type": "execute_result"
    }
   ],
   "source": [
    "df_merge_1.pivot_table(['COST','REVENUE'], index='Tier', aggfunc='sum', margins=True)"
   ]
  },
  {
   "cell_type": "code",
   "execution_count": 7,
   "id": "204f3754",
   "metadata": {},
   "outputs": [],
   "source": [
    "df_merge_1.to_excel(\"RAW_FAA_Overview_May_04.xlsx\", index=False)"
   ]
  },
  {
   "cell_type": "code",
   "execution_count": null,
   "id": "c226ff59",
   "metadata": {},
   "outputs": [],
   "source": []
  },
  {
   "cell_type": "code",
   "execution_count": null,
   "id": "a39b391b",
   "metadata": {},
   "outputs": [],
   "source": []
  },
  {
   "cell_type": "code",
   "execution_count": null,
   "id": "3a0a07a3",
   "metadata": {},
   "outputs": [],
   "source": []
  },
  {
   "cell_type": "code",
   "execution_count": null,
   "id": "ebe2ac2e",
   "metadata": {},
   "outputs": [],
   "source": []
  },
  {
   "cell_type": "code",
   "execution_count": null,
   "id": "ab16e28f",
   "metadata": {},
   "outputs": [],
   "source": []
  },
  {
   "cell_type": "code",
   "execution_count": null,
   "id": "56b171eb",
   "metadata": {},
   "outputs": [],
   "source": []
  }
 ],
 "metadata": {
  "kernelspec": {
   "display_name": "Python 3 (ipykernel)",
   "language": "python",
   "name": "python3"
  },
  "language_info": {
   "codemirror_mode": {
    "name": "ipython",
    "version": 3
   },
   "file_extension": ".py",
   "mimetype": "text/x-python",
   "name": "python",
   "nbconvert_exporter": "python",
   "pygments_lexer": "ipython3",
   "version": "3.10.9"
  }
 },
 "nbformat": 4,
 "nbformat_minor": 5
}
