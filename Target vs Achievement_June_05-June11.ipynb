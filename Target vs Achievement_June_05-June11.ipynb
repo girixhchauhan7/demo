{
 "cells": [
  {
   "cell_type": "markdown",
   "id": "907ff111",
   "metadata": {},
   "source": [
    "## Import Libraries"
   ]
  },
  {
   "cell_type": "code",
   "execution_count": 1,
   "id": "8f5674a3",
   "metadata": {},
   "outputs": [],
   "source": [
    "import pandas as pd\n",
    "import os\n",
    "import matplotlib.pyplot as plt\n",
    "import numpy as np"
   ]
  },
  {
   "cell_type": "code",
   "execution_count": 2,
   "id": "b4308eba",
   "metadata": {},
   "outputs": [],
   "source": [
    "# Get the current working directory\n",
    "pwd= os.getcwd()"
   ]
  },
  {
   "cell_type": "code",
   "execution_count": 3,
   "id": "82303600",
   "metadata": {},
   "outputs": [],
   "source": [
    "df1 = pd.read_csv(pwd + \"/202306121658.csv\")\n",
    "df_countrytiers = pd.read_excel(pwd + \"/Tier1_List.xlsx\")\n",
    "df_managerslist = pd.read_excel(pwd + \"/ManagersList.xlsx\")\n",
    "df_campmanagerslist = pd.read_excel(pwd + \"/CampManagersList.xlsx\")"
   ]
  },
  {
   "cell_type": "code",
   "execution_count": 4,
   "id": "aa8762dd",
   "metadata": {},
   "outputs": [],
   "source": [
    "index = df1[ (df1['COST'] == 0) & (df1['REVENUE'] ==0) ].index\n",
    "df1.drop(index , inplace=True)"
   ]
  },
  {
   "cell_type": "code",
   "execution_count": 5,
   "id": "6a7d90f8",
   "metadata": {
    "scrolled": true
   },
   "outputs": [],
   "source": [
    "import re\n",
    "words = ['suite', 'workspace','ads','advertis','video']\n",
    "regex = '|'.join(map(re.escape, words))\n",
    "# 'health|therapist|sales|private'\n",
    "# keywords- lms, 3pl, edi,headless, knowledge/content, endpoint, server,project, health\n",
    "# new keywords - soc 2, it , headless , discovery, billing, staffing, inventory\n",
    "# dormant - laboratory, Supply Chain, corporate, therapist, event management, identity, power bi, medical staffing, ,forensic, ehr, enterprise\n",
    "#lawyer,marketing,order, file, therap, analytics, document, cyber, workflow, ai, consulting\n",
    "\n",
    "#removed 23aug - email,private\n",
    "#removed 21Sept- mental,document\n",
    "#added -ads, workable\n",
    "#'product','task', 'ats' , gcp\n",
    "\n",
    "# option 1: get first match\n",
    "df1['category_first'] = (df1['Campaign_Query']\n",
    " .str.extract(f'(?i)({regex})', expand=False)\n",
    " .fillna('Other')\n",
    " )\n",
    "\n",
    "# option 2: get all matches\n",
    "df1['category_all'] = (df1['Campaign_Query']\n",
    " .str.extractall(f'(?i)({regex})')\n",
    " [0].groupby(level=0).agg(lambda x: ','.join(set(x)))\n",
    " .reindex(df1.index, fill_value='Other')\n",
    " )"
   ]
  },
  {
   "cell_type": "code",
   "execution_count": 6,
   "id": "a90129dc",
   "metadata": {},
   "outputs": [],
   "source": [
    "df_merge_2 = pd.merge(df1, df_campmanagerslist, on='Label', how='left')"
   ]
  },
  {
   "cell_type": "markdown",
   "id": "91955d17",
   "metadata": {},
   "source": [
    "df_merge_2['MTD'] = np.where(df_merge_2['DATE']!= '[]', True, False)\n",
    "\n",
    "df_merge_2['WTD'] = np.where(df_merge_2['DATE']!= '[]', True, False)"
   ]
  },
  {
   "cell_type": "markdown",
   "id": "7c8eedb8",
   "metadata": {},
   "source": [
    "\n",
    "# using dt accessor to extract day               \n",
    "df_merge_2[\"DATE\"]= pd.to_datetime(df_merge_2[ \"DATE\"])\n",
    "df_merge_2['DayOfMonth']=df_merge_2[ \"DATE\"].dt.day\n",
    "\n",
    "# using dt accessor to extract month                  \n",
    "#df_merge_2[\"DATE\"]= pd.to_datetime(df_merge_2[ \"DATE\"])\n",
    "#df_merge_2['Month']=df_merge_2[ \"DATE\"].dt.month\n",
    "\n",
    "# using dt accessor to extract year                     \n",
    "#df_merge_2[\"DATE\"]= pd.to_datetime(df_merge_2[ \"DATE\"])\n",
    "#df_merge_2['Year']=df_merge_2[ \"DATE\"].dt.year\n",
    "\n",
    "df_merge_2[\"DATE\"]= pd.to_datetime(df_merge_2[ \"DATE\"])\n",
    "df_merge_2['Day_name']=df_merge_2[ \"DATE\"].dt.day_name()\n",
    "\n",
    "\n"
   ]
  },
  {
   "cell_type": "code",
   "execution_count": 7,
   "id": "c8f8ce95",
   "metadata": {},
   "outputs": [],
   "source": [
    "#max(df_merge_2['DayOfMonth'])"
   ]
  },
  {
   "cell_type": "markdown",
   "id": "b59103b0",
   "metadata": {},
   "source": [
    "#### Spend Checklist"
   ]
  },
  {
   "cell_type": "code",
   "execution_count": 8,
   "id": "204f3754",
   "metadata": {},
   "outputs": [],
   "source": [
    "df_merge_2.to_excel(\"Target vs Achievement_June_05-June_11.xlsx\", index=False)"
   ]
  },
  {
   "cell_type": "markdown",
   "id": "3925fb6b",
   "metadata": {},
   "source": [
    "\n",
    "\n",
    "# I think the easiest way is using python-dateutil like this:\n",
    "\n",
    "from datetime import date\n",
    "from dateutil.relativedelta import relativedelta, MO"
   ]
  },
  {
   "cell_type": "markdown",
   "id": "329b42e9",
   "metadata": {},
   "source": [
    "today = date.today()\n",
    "last_monday = today + relativedelta(weekday=MO(-1))\n",
    "print (last_monday)"
   ]
  },
  {
   "cell_type": "code",
   "execution_count": 9,
   "id": "a39b391b",
   "metadata": {},
   "outputs": [],
   "source": [
    "#max(df_merge_2['Day_name'])"
   ]
  },
  {
   "cell_type": "code",
   "execution_count": 10,
   "id": "3a0a07a3",
   "metadata": {},
   "outputs": [],
   "source": [
    "#df_merge_2['WTD'] = np.where(df_merge_2['DATE']>= last_monday, True, False)"
   ]
  },
  {
   "cell_type": "code",
   "execution_count": 11,
   "id": "ebe2ac2e",
   "metadata": {},
   "outputs": [
    {
     "data": {
      "text/plain": [
       "DATE                   object\n",
       "Site                   object\n",
       "Label                  object\n",
       "Campaign_Name          object\n",
       "Campaign_Query         object\n",
       "COST                  float64\n",
       "REVENUE               float64\n",
       "PROFIT                float64\n",
       "Margin                float64\n",
       "AdWords_Clicks          int64\n",
       "AdSense_Clicks          int64\n",
       "AdWords_CPC           float64\n",
       "AdSense_CPC           float64\n",
       "Conversion            float64\n",
       "Demand_IMPRESSIONS      int64\n",
       "Supply_IMPR             int64\n",
       "category_first         object\n",
       "category_all           object\n",
       "Team Member            object\n",
       "Manager                object\n",
       "dtype: object"
      ]
     },
     "execution_count": 11,
     "metadata": {},
     "output_type": "execute_result"
    }
   ],
   "source": [
    "df_merge_2.dtypes"
   ]
  },
  {
   "cell_type": "code",
   "execution_count": null,
   "id": "ab16e28f",
   "metadata": {},
   "outputs": [],
   "source": []
  },
  {
   "cell_type": "code",
   "execution_count": null,
   "id": "56b171eb",
   "metadata": {},
   "outputs": [],
   "source": []
  }
 ],
 "metadata": {
  "kernelspec": {
   "display_name": "Python 3 (ipykernel)",
   "language": "python",
   "name": "python3"
  },
  "language_info": {
   "codemirror_mode": {
    "name": "ipython",
    "version": 3
   },
   "file_extension": ".py",
   "mimetype": "text/x-python",
   "name": "python",
   "nbconvert_exporter": "python",
   "pygments_lexer": "ipython3",
   "version": "3.10.9"
  }
 },
 "nbformat": 4,
 "nbformat_minor": 5
}
