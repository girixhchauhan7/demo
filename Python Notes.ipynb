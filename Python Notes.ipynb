{
 "cells": [
  {
   "cell_type": "markdown",
   "id": "07469940",
   "metadata": {},
   "source": [
    "### Heading 1"
   ]
  },
  {
   "cell_type": "code",
   "execution_count": 4,
   "id": "007322a2",
   "metadata": {},
   "outputs": [],
   "source": [
    "## 1. Import Libraries\n",
    "\n",
    "import pandas as pd\n",
    "import os\n",
    "import matplotlib.pyplot as plt\n",
    "import numpy as np"
   ]
  },
  {
   "cell_type": "code",
   "execution_count": null,
   "id": "c4fb36d9",
   "metadata": {},
   "outputs": [],
   "source": [
    "pwd= os.getcwd()"
   ]
  },
  {
   "cell_type": "code",
   "execution_count": null,
   "id": "791ab13f",
   "metadata": {},
   "outputs": [],
   "source": [
    "df1 = pd.read_csv(pwd + \"/_202301191310.csv\")"
   ]
  },
  {
   "cell_type": "code",
   "execution_count": 2,
   "id": "111f2cf1",
   "metadata": {},
   "outputs": [
    {
     "name": "stdout",
     "output_type": "stream",
     "text": [
      "Object `pd.read_csv` not found.\n"
     ]
    }
   ],
   "source": [
    "pd.read_csv?"
   ]
  },
  {
   "cell_type": "code",
   "execution_count": null,
   "id": "b632f171",
   "metadata": {},
   "outputs": [],
   "source": [
    "## Merge\n",
    "df_merge = pd.merge(df1, df2, on='Country', how='outer')"
   ]
  },
  {
   "cell_type": "code",
   "execution_count": null,
   "id": "de02d04d",
   "metadata": {},
   "outputs": [],
   "source": []
  },
  {
   "cell_type": "code",
   "execution_count": null,
   "id": "18442eba",
   "metadata": {},
   "outputs": [],
   "source": [
    "## Mark columns with certain condition\n",
    "index = df1[ (df1['COST'] == 0) & (df1['REVENUE'] ==0) ].index\n",
    "\n",
    "## Drop columns\n",
    "df1.drop(index , inplace=True)\n",
    "df1.drop(columns=['Label', 'COST','REVENUE', 'Cat1', 'Cat2', 'is_duplicate?', 'Cat3','Category'])"
   ]
  },
  {
   "cell_type": "code",
   "execution_count": null,
   "id": "8e1e3c85",
   "metadata": {},
   "outputs": [],
   "source": []
  },
  {
   "cell_type": "code",
   "execution_count": null,
   "id": "5213dc9c",
   "metadata": {},
   "outputs": [],
   "source": [
    "#Pivot_Table\n",
    "df1.pivot_table('Campaign_Query', index='Site', aggfunc='count', margins=True)\n",
    "\n",
    "df1.pivot_table(['Campaign_Name'], index='Site', aggfunc=lambda x: len(x.unique()), margins=True)"
   ]
  },
  {
   "cell_type": "code",
   "execution_count": null,
   "id": "6e0b80b6",
   "metadata": {},
   "outputs": [],
   "source": []
  },
  {
   "cell_type": "code",
   "execution_count": null,
   "id": "c85ecd17",
   "metadata": {},
   "outputs": [],
   "source": [
    "#Export_as_Excel\n",
    "df1.to_excel(\"Categories_FinalOutput_Oct22-Jan23.xlsx\", index=False)"
   ]
  },
  {
   "cell_type": "code",
   "execution_count": null,
   "id": "920e743a",
   "metadata": {},
   "outputs": [],
   "source": []
  },
  {
   "cell_type": "code",
   "execution_count": null,
   "id": "f1a4ad75",
   "metadata": {},
   "outputs": [],
   "source": [
    "# Create a Pandas Excel writer using XlsxWriter as the engine.\n",
    "import xlsxwriter\n",
    "writer = pd.ExcelWriter('ALL Domains 16 January_detailed.xlsx', engine='xlsxwriter')\n",
    "\n",
    "# Write each dataframe to a different worksheet.\n",
    "out_dropcolumns.to_excel(writer, sheet_name='All_Data',index=False) \n",
    "#df_receptix_com.to_excel(writer, sheet_name='receptix.com',index=False)\n",
    "df_receptix_us.to_excel(writer, sheet_name='receptix.us',index=False)\n",
    "df_receptix_uk.to_excel(writer, sheet_name='receptix.uk',index=False)\n",
    "df_receptix_de.to_excel(writer, sheet_name='receptix.de',index=False)\n",
    "df_jnee_com.to_excel(writer, sheet_name='jnee.com',index=False)\n",
    "df_jnee_us.to_excel(writer, sheet_name='jnee.us',index=False)\n",
    "df_jnee_uk.to_excel(writer, sheet_name='jnee.uk',index=False)\n",
    "df_jnee_in.to_excel(writer, sheet_name='jnee.in',index=False)\n",
    "\n",
    "# Close the Pandas Excel writer and output the Excel file.\n",
    "writer.save()"
   ]
  },
  {
   "cell_type": "code",
   "execution_count": null,
   "id": "f910b205",
   "metadata": {},
   "outputs": [],
   "source": []
  },
  {
   "cell_type": "code",
   "execution_count": null,
   "id": "677b4bf6",
   "metadata": {},
   "outputs": [],
   "source": [
    "#NUMPY Where\n",
    "df1['Cat1'] = np.where(df1.Campaign_Query.notnull(), '', 'NoKeyword')\n",
    "\n",
    "### 5. Identify first instance of a duplicate and classify as 'Unique' and remaining duplicates as 'Duplicate'\n",
    "df1['Cat3'] = np.where(df1['Campaign_Query'].duplicated(keep='first'), 'Duplicate', '')\n"
   ]
  },
  {
   "cell_type": "code",
   "execution_count": 1,
   "id": "3097eb34",
   "metadata": {},
   "outputs": [
    {
     "ename": "SyntaxError",
     "evalue": "invalid syntax (1850811211.py, line 4)",
     "output_type": "error",
     "traceback": [
      "\u001b[1;36m  Cell \u001b[1;32mIn [1], line 4\u001b[1;36m\u001b[0m\n\u001b[1;33m    df1.dtypes ///df.info()\u001b[0m\n\u001b[1;37m                 ^\u001b[0m\n\u001b[1;31mSyntaxError\u001b[0m\u001b[1;31m:\u001b[0m invalid syntax\n"
     ]
    }
   ],
   "source": [
    "df1.head()\n",
    "df1.tail()\n",
    "df1.describe()\n",
    "df1.dtypes #alternate df.info()\n",
    "df1.columns\n",
    "\n",
    "df1['Category'].value_counts()\n",
    "df1.sort_values('Campaign_Query',ascending=True) # Sort_Values by column"
   ]
  },
  {
   "cell_type": "code",
   "execution_count": null,
   "id": "5c88afef",
   "metadata": {},
   "outputs": [],
   "source": []
  },
  {
   "cell_type": "code",
   "execution_count": null,
   "id": "d016a258",
   "metadata": {},
   "outputs": [],
   "source": []
  },
  {
   "cell_type": "code",
   "execution_count": null,
   "id": "ccad70cd",
   "metadata": {},
   "outputs": [],
   "source": [
    "#removing non usable rows\n",
    "out = df1[df1['Category'].eq('')]\n",
    "out_dropcolumns = out.drop(columns=['Label', 'COST','REVENUE', 'Cat1', 'Cat2', 'is_duplicate?', 'Cat3','Category'])\n",
    "\n",
    "#create multiple dataframes as per column 'Site'\n",
    "d = dict(tuple(out_dropcolumns.groupby('Site')))\n",
    "for i, g in out_dropcolumns.groupby('Site'):\n",
    "    globals()['df_' + str(i).replace('.','_')] =  g\n",
    "    \n",
    "    \n",
    "out_dropcolumns.sort_values('AdWords_Clicks', ascending=False)\n",
    "out_dropcolumns.head(2)"
   ]
  },
  {
   "cell_type": "code",
   "execution_count": 2,
   "id": "3eb5254f",
   "metadata": {},
   "outputs": [],
   "source": [
    "# Extract after a string\n",
    "df['slize'] = df.Campaign_Name.str.extract('-(.*)')   "
   ]
  },
  {
   "cell_type": "code",
   "execution_count": null,
   "id": "22f32467",
   "metadata": {},
   "outputs": [],
   "source": []
  },
  {
   "cell_type": "code",
   "execution_count": null,
   "id": "37a7df6b",
   "metadata": {},
   "outputs": [],
   "source": [
    "#skip columns\n",
    "\n",
    "skip_cols = ['col_a', 'col_b',...,'col_zz']\n",
    "df = pd.read_excel('Book1.xlsx', usecols=lambda x: x not in skip_cols)\n",
    "\n",
    "cols = pd.read_excel('Book1.xlsx', nrows=0).columns\n",
    "df = pd.read_excel('Book1.xlsx', usecols=cols.difference(skip_cols))\n",
    "\n",
    "#https://stackoverflow.com/questions/49677313/skip-specific-set-of-columns-when-reading-excel-frame-pandas"
   ]
  },
  {
   "cell_type": "code",
   "execution_count": null,
   "id": "b95ac63e",
   "metadata": {},
   "outputs": [],
   "source": []
  },
  {
   "cell_type": "code",
   "execution_count": null,
   "id": "2dff520e",
   "metadata": {},
   "outputs": [],
   "source": [
    "df1.shape[0] #count_rows\n",
    "df1.shape[1] #count_columns"
   ]
  },
  {
   "cell_type": "code",
   "execution_count": null,
   "id": "f18fc4c5",
   "metadata": {},
   "outputs": [],
   "source": []
  },
  {
   "cell_type": "code",
   "execution_count": 5,
   "id": "0952bac7",
   "metadata": {},
   "outputs": [],
   "source": [
    "df = pd.DataFrame(np.array([[1, 1], [2, 10], [3, 100], [4, 100]]),\n",
    "                  columns=['a', 'b'])"
   ]
  },
  {
   "cell_type": "code",
   "execution_count": 6,
   "id": "d83fcaa0",
   "metadata": {},
   "outputs": [
    {
     "data": {
      "text/html": [
       "<div>\n",
       "<style scoped>\n",
       "    .dataframe tbody tr th:only-of-type {\n",
       "        vertical-align: middle;\n",
       "    }\n",
       "\n",
       "    .dataframe tbody tr th {\n",
       "        vertical-align: top;\n",
       "    }\n",
       "\n",
       "    .dataframe thead th {\n",
       "        text-align: right;\n",
       "    }\n",
       "</style>\n",
       "<table border=\"1\" class=\"dataframe\">\n",
       "  <thead>\n",
       "    <tr style=\"text-align: right;\">\n",
       "      <th></th>\n",
       "      <th>a</th>\n",
       "      <th>b</th>\n",
       "    </tr>\n",
       "  </thead>\n",
       "  <tbody>\n",
       "    <tr>\n",
       "      <th>0</th>\n",
       "      <td>1</td>\n",
       "      <td>1</td>\n",
       "    </tr>\n",
       "    <tr>\n",
       "      <th>1</th>\n",
       "      <td>2</td>\n",
       "      <td>10</td>\n",
       "    </tr>\n",
       "    <tr>\n",
       "      <th>2</th>\n",
       "      <td>3</td>\n",
       "      <td>100</td>\n",
       "    </tr>\n",
       "    <tr>\n",
       "      <th>3</th>\n",
       "      <td>4</td>\n",
       "      <td>100</td>\n",
       "    </tr>\n",
       "  </tbody>\n",
       "</table>\n",
       "</div>"
      ],
      "text/plain": [
       "   a    b\n",
       "0  1    1\n",
       "1  2   10\n",
       "2  3  100\n",
       "3  4  100"
      ]
     },
     "execution_count": 6,
     "metadata": {},
     "output_type": "execute_result"
    }
   ],
   "source": [
    "df"
   ]
  },
  {
   "cell_type": "code",
   "execution_count": 8,
   "id": "d4a651b3",
   "metadata": {},
   "outputs": [
    {
     "data": {
      "text/plain": [
       "a    1.6\n",
       "b    6.4\n",
       "Name: 0.2, dtype: float64"
      ]
     },
     "execution_count": 8,
     "metadata": {},
     "output_type": "execute_result"
    }
   ],
   "source": [
    "df.quantile(.)\n"
   ]
  },
  {
   "cell_type": "code",
   "execution_count": null,
   "id": "9e7dd69b",
   "metadata": {},
   "outputs": [],
   "source": []
  },
  {
   "cell_type": "code",
   "execution_count": null,
   "id": "57ff3130",
   "metadata": {},
   "outputs": [],
   "source": []
  },
  {
   "cell_type": "code",
   "execution_count": null,
   "id": "54317d1d",
   "metadata": {},
   "outputs": [],
   "source": []
  }
 ],
 "metadata": {
  "kernelspec": {
   "display_name": "Python 3 (ipykernel)",
   "language": "python",
   "name": "python3"
  },
  "language_info": {
   "codemirror_mode": {
    "name": "ipython",
    "version": 3
   },
   "file_extension": ".py",
   "mimetype": "text/x-python",
   "name": "python",
   "nbconvert_exporter": "python",
   "pygments_lexer": "ipython3",
   "version": "3.10.9"
  }
 },
 "nbformat": 4,
 "nbformat_minor": 5
}
